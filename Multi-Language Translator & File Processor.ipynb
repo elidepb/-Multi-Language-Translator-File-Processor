{
  "nbformat": 4,
  "nbformat_minor": 0,
  "metadata": {
    "colab": {
      "provenance": []
    },
    "kernelspec": {
      "name": "python3",
      "display_name": "Python 3"
    },
    "language_info": {
      "name": "python"
    }
  },
  "cells": [
    {
      "cell_type": "markdown",
      "source": [
        "Install Required Libraries"
      ],
      "metadata": {
        "id": "8-27Nxg5K1Cs"
      }
    },
    {
      "cell_type": "code",
      "execution_count": 7,
      "metadata": {
        "colab": {
          "base_uri": "https://localhost:8080/"
        },
        "id": "C_k3a2MXKNC2",
        "outputId": "c397073c-5380-4c7f-8037-8c360f0c0620",
        "collapsed": true
      },
      "outputs": [
        {
          "output_type": "stream",
          "name": "stdout",
          "text": [
            "Requirement already satisfied: langdetect in /usr/local/lib/python3.11/dist-packages (1.0.9)\n",
            "Requirement already satisfied: googletrans==4.0.0-rc1 in /usr/local/lib/python3.11/dist-packages (4.0.0rc1)\n",
            "Requirement already satisfied: PyPDF2 in /usr/local/lib/python3.11/dist-packages (3.0.1)\n",
            "Requirement already satisfied: python-docx in /usr/local/lib/python3.11/dist-packages (1.1.2)\n",
            "Requirement already satisfied: httpx==0.13.3 in /usr/local/lib/python3.11/dist-packages (from googletrans==4.0.0-rc1) (0.13.3)\n",
            "Requirement already satisfied: certifi in /usr/local/lib/python3.11/dist-packages (from httpx==0.13.3->googletrans==4.0.0-rc1) (2025.1.31)\n",
            "Requirement already satisfied: hstspreload in /usr/local/lib/python3.11/dist-packages (from httpx==0.13.3->googletrans==4.0.0-rc1) (2025.1.1)\n",
            "Requirement already satisfied: sniffio in /usr/local/lib/python3.11/dist-packages (from httpx==0.13.3->googletrans==4.0.0-rc1) (1.3.1)\n",
            "Requirement already satisfied: chardet==3.* in /usr/local/lib/python3.11/dist-packages (from httpx==0.13.3->googletrans==4.0.0-rc1) (3.0.4)\n",
            "Requirement already satisfied: idna==2.* in /usr/local/lib/python3.11/dist-packages (from httpx==0.13.3->googletrans==4.0.0-rc1) (2.10)\n",
            "Requirement already satisfied: rfc3986<2,>=1.3 in /usr/local/lib/python3.11/dist-packages (from httpx==0.13.3->googletrans==4.0.0-rc1) (1.5.0)\n",
            "Requirement already satisfied: httpcore==0.9.* in /usr/local/lib/python3.11/dist-packages (from httpx==0.13.3->googletrans==4.0.0-rc1) (0.9.1)\n",
            "Requirement already satisfied: h11<0.10,>=0.8 in /usr/local/lib/python3.11/dist-packages (from httpcore==0.9.*->httpx==0.13.3->googletrans==4.0.0-rc1) (0.9.0)\n",
            "Requirement already satisfied: h2==3.* in /usr/local/lib/python3.11/dist-packages (from httpcore==0.9.*->httpx==0.13.3->googletrans==4.0.0-rc1) (3.2.0)\n",
            "Requirement already satisfied: hyperframe<6,>=5.2.0 in /usr/local/lib/python3.11/dist-packages (from h2==3.*->httpcore==0.9.*->httpx==0.13.3->googletrans==4.0.0-rc1) (5.2.0)\n",
            "Requirement already satisfied: hpack<4,>=3.0 in /usr/local/lib/python3.11/dist-packages (from h2==3.*->httpcore==0.9.*->httpx==0.13.3->googletrans==4.0.0-rc1) (3.0.0)\n",
            "Requirement already satisfied: six in /usr/local/lib/python3.11/dist-packages (from langdetect) (1.17.0)\n",
            "Requirement already satisfied: lxml>=3.1.0 in /usr/local/lib/python3.11/dist-packages (from python-docx) (5.3.0)\n",
            "Requirement already satisfied: typing-extensions>=4.9.0 in /usr/local/lib/python3.11/dist-packages (from python-docx) (4.12.2)\n"
          ]
        }
      ],
      "source": [
        "!pip install langdetect googletrans==4.0.0-rc1 PyPDF2 python-docx"
      ]
    },
    {
      "cell_type": "markdown",
      "source": [
        "Import Libraries"
      ],
      "metadata": {
        "id": "X7zvoB_5rOAA"
      }
    },
    {
      "cell_type": "code",
      "source": [
        "from langdetect import detect\n",
        "from googletrans import Translator\n",
        "import PyPDF2\n",
        "from docx import Document\n",
        "from google.colab import files"
      ],
      "metadata": {
        "id": "avS8Wom0K4qy"
      },
      "execution_count": 9,
      "outputs": []
    },
    {
      "cell_type": "markdown",
      "source": [
        "Define Functions for File Reading"
      ],
      "metadata": {
        "id": "rgrp6gm5rT8g"
      }
    },
    {
      "cell_type": "code",
      "source": [
        "def read_txt(file_path):\n",
        "    with open(file_path, 'r', encoding='utf-8') as file:\n",
        "        return file.read()\n",
        "\n",
        "def read_pdf(file_path):\n",
        "    with open(file_path, 'rb') as file:\n",
        "        reader = PyPDF2.PdfReader(file)\n",
        "        text = \"\"\n",
        "        for page in reader.pages:\n",
        "            text += page.extract_text()\n",
        "        return text\n",
        "\n",
        "def read_docx(file_path):\n",
        "    doc = Document(file_path)\n",
        "    text = \"\"\n",
        "    for paragraph in doc.paragraphs:\n",
        "        text += paragraph.text + \"\\n\"\n",
        "    return text"
      ],
      "metadata": {
        "id": "pTSAHfOUPccF"
      },
      "execution_count": 10,
      "outputs": []
    },
    {
      "cell_type": "markdown",
      "source": [
        "Define Functions for Language Detection and Translation"
      ],
      "metadata": {
        "id": "WIHVTxm6razZ"
      }
    },
    {
      "cell_type": "code",
      "source": [
        "def detect_language(text):\n",
        "    try:\n",
        "        return detect(text)\n",
        "    except Exception as e:\n",
        "        print(f\"Language detection error: {e}\")\n",
        "        return None\n",
        "\n",
        "def translate_text(text, target_language='en'):\n",
        "    try:\n",
        "        translator = Translator()\n",
        "        translation = translator.translate(text, dest=target_language)\n",
        "        return translation.text\n",
        "    except Exception as e:\n",
        "        print(f\"Translation error: {e}\")\n",
        "        return None"
      ],
      "metadata": {
        "id": "LO_GZr5GrXWC"
      },
      "execution_count": 11,
      "outputs": []
    },
    {
      "cell_type": "markdown",
      "source": [
        "Ask User for Input Method"
      ],
      "metadata": {
        "id": "AC75USMPrf68"
      }
    },
    {
      "cell_type": "code",
      "source": [
        "input_method = input(\"Choose an option:\\n1. Enter text manually\\n2. Upload a file (TXT, PDF, or DOCX)\\nEnter 1 or 2: \")\n",
        "\n",
        "if input_method == '1':\n",
        "    text = input(\"Enter the text to translate: \")\n",
        "elif input_method == '2':\n",
        "    uploaded = files.upload()\n",
        "    file_name = list(uploaded.keys())[0]\n",
        "    if file_name.endswith('.txt'):\n",
        "        text = read_txt(file_name)\n",
        "    elif file_name.endswith('.pdf'):\n",
        "        text = read_pdf(file_name)\n",
        "    elif file_name.endswith('.docx'):\n",
        "        text = read_docx(file_name)\n",
        "    else:\n",
        "        raise ValueError(\"Unsupported file format. Use TXT, PDF, or DOCX.\")\n",
        "else:\n",
        "    raise ValueError(\"Invalid option. Please choose 1 or 2.\")"
      ],
      "metadata": {
        "colab": {
          "base_uri": "https://localhost:8080/"
        },
        "id": "i2iQjQZardY3",
        "outputId": "b464caef-7520-4ab7-e7ef-7851fcdf6b93"
      },
      "execution_count": 20,
      "outputs": [
        {
          "name": "stdout",
          "output_type": "stream",
          "text": [
            "Choose an option:\n",
            "1. Enter text manually\n",
            "2. Upload a file (TXT, PDF, or DOCX)\n",
            "Enter 1 or 2: 1\n",
            "Enter the text to translate: Hello, how are you? have a good day.\n"
          ]
        }
      ]
    },
    {
      "cell_type": "markdown",
      "source": [
        "Translate Text"
      ],
      "metadata": {
        "id": "OGjX6wz_rvwp"
      }
    },
    {
      "cell_type": "code",
      "source": [
        "target_language = input(\"Enter the target language code (e.g., 'es' for Spanish, 'fr' for French): \")\n",
        "translated_text = translate_text(text, target_language)\n",
        "\n",
        "if translated_text:\n",
        "    print(\"\\nTranslated Text:\")\n",
        "    print(translated_text)\n",
        "else:\n",
        "    raise ValueError(\"Translation failed.\")"
      ],
      "metadata": {
        "colab": {
          "base_uri": "https://localhost:8080/"
        },
        "id": "Tr069GQDrrZw",
        "outputId": "db8fc666-c3b9-4931-cdf0-9c0df3121269"
      },
      "execution_count": 23,
      "outputs": [
        {
          "output_type": "stream",
          "name": "stdout",
          "text": [
            "Enter the target language code (e.g., 'es' for Spanish, 'fr' for French): es\n",
            "\n",
            "Translated Text:\n",
            "¿Hola, cómo estás?que tenga un buen día.\n"
          ]
        }
      ]
    },
    {
      "cell_type": "markdown",
      "source": [
        "Save Translated Text"
      ],
      "metadata": {
        "id": "ZXhEO2jnr2_l"
      }
    },
    {
      "cell_type": "code",
      "source": [
        "save_option = input(\"Do you want to save the translation? (y/n): \").lower()\n",
        "if save_option == 'y':\n",
        "    if input_method == '1':\n",
        "        output_file_name = f\"translated_{target_language}_text.txt\"\n",
        "    else:\n",
        "        output_file_name = f\"translated_{target_language}_{file_name}\"\n",
        "\n",
        "    with open(output_file_name, 'w', encoding='utf-8') as file:\n",
        "        file.write(translated_text)\n",
        "    print(f\"Translation saved as: {output_file_name}\")\n",
        "\n",
        "    files.download(output_file_name)\n",
        "else:\n",
        "    print(\"Translation not saved.\")"
      ],
      "metadata": {
        "colab": {
          "base_uri": "https://localhost:8080/",
          "height": 52
        },
        "id": "BmVAX_HHrxpC",
        "outputId": "39f7c3a5-4982-4f37-be5b-25a55e37a1ec"
      },
      "execution_count": 24,
      "outputs": [
        {
          "output_type": "stream",
          "name": "stdout",
          "text": [
            "Do you want to save the translation? (y/n): y\n",
            "Translation saved as: translated_es_text.txt\n"
          ]
        },
        {
          "output_type": "display_data",
          "data": {
            "text/plain": [
              "<IPython.core.display.Javascript object>"
            ],
            "application/javascript": [
              "\n",
              "    async function download(id, filename, size) {\n",
              "      if (!google.colab.kernel.accessAllowed) {\n",
              "        return;\n",
              "      }\n",
              "      const div = document.createElement('div');\n",
              "      const label = document.createElement('label');\n",
              "      label.textContent = `Downloading \"${filename}\": `;\n",
              "      div.appendChild(label);\n",
              "      const progress = document.createElement('progress');\n",
              "      progress.max = size;\n",
              "      div.appendChild(progress);\n",
              "      document.body.appendChild(div);\n",
              "\n",
              "      const buffers = [];\n",
              "      let downloaded = 0;\n",
              "\n",
              "      const channel = await google.colab.kernel.comms.open(id);\n",
              "      // Send a message to notify the kernel that we're ready.\n",
              "      channel.send({})\n",
              "\n",
              "      for await (const message of channel.messages) {\n",
              "        // Send a message to notify the kernel that we're ready.\n",
              "        channel.send({})\n",
              "        if (message.buffers) {\n",
              "          for (const buffer of message.buffers) {\n",
              "            buffers.push(buffer);\n",
              "            downloaded += buffer.byteLength;\n",
              "            progress.value = downloaded;\n",
              "          }\n",
              "        }\n",
              "      }\n",
              "      const blob = new Blob(buffers, {type: 'application/binary'});\n",
              "      const a = document.createElement('a');\n",
              "      a.href = window.URL.createObjectURL(blob);\n",
              "      a.download = filename;\n",
              "      div.appendChild(a);\n",
              "      a.click();\n",
              "      div.remove();\n",
              "    }\n",
              "  "
            ]
          },
          "metadata": {}
        },
        {
          "output_type": "display_data",
          "data": {
            "text/plain": [
              "<IPython.core.display.Javascript object>"
            ],
            "application/javascript": [
              "download(\"download_8c032f3a-e827-48f3-bdac-2f5475c1ceec\", \"translated_es_text.txt\", 44)"
            ]
          },
          "metadata": {}
        }
      ]
    },
    {
      "cell_type": "code",
      "source": [],
      "metadata": {
        "id": "-kUSfb7KtZsw"
      },
      "execution_count": null,
      "outputs": []
    }
  ]
}